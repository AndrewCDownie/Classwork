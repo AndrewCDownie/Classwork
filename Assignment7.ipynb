{
  "nbformat": 4,
  "nbformat_minor": 0,
  "metadata": {
    "colab": {
      "name": "Assignment7.ipynb",
      "provenance": [],
      "collapsed_sections": [],
      "authorship_tag": "ABX9TyNmPKgECAcPzs0Rl3IITd58",
      "include_colab_link": true
    },
    "kernelspec": {
      "name": "python3",
      "display_name": "Python 3"
    }
  },
  "cells": [
    {
      "cell_type": "markdown",
      "metadata": {
        "id": "view-in-github",
        "colab_type": "text"
      },
      "source": [
        "<a href=\"https://colab.research.google.com/github/AndrewCDownie/Classwork/blob/master/Assignment7.ipynb\" target=\"_parent\"><img src=\"https://colab.research.google.com/assets/colab-badge.svg\" alt=\"Open In Colab\"/></a>"
      ]
    },
    {
      "cell_type": "code",
      "metadata": {
        "id": "Q-oKqJO6WlrO",
        "colab_type": "code",
        "colab": {}
      },
      "source": [
        "import torch\n",
        "import torch.nn as nn\n",
        "import torch.nn.functional as F"
      ],
      "execution_count": 1,
      "outputs": []
    },
    {
      "cell_type": "code",
      "metadata": {
        "id": "JPEhVJGbXXsx",
        "colab_type": "code",
        "colab": {}
      },
      "source": [
        "class Net(nn.Module):\n",
        "  def __init__(self):\n",
        "    super(Net,self).__init__()\n",
        "    #conv layers\n",
        "    self.layer1 = nn.Sequential(\n",
        "        nn.Conv2d( 1,  64,3,stride = 1,padding=1),\n",
        "        nn.BatchNorm2d(64),\n",
        "        nn.ReLU(),\n",
        "        nn.MaxPool2d(2,stride=2)\n",
        "    )\n",
        "\n",
        "    self.layer2 = nn.Sequential(\n",
        "        nn.Conv2d( 64,128,3,stride = 1,padding=1),\n",
        "        nn.BatchNorm2d(128),\n",
        "        nn.ReLU(),\n",
        "        nn.MaxPool2d(2,stride=2)\n",
        "    )\n",
        "\n",
        "    self.layer3 = nn.Sequential(\n",
        "        nn.Conv2d(128,256,3,stride = 1,padding=1),\n",
        "        nn.BatchNorm2d(256),\n",
        "        nn.ReLU()\n",
        "    )\n",
        "\n",
        "    self.layer4 = nn.Sequential(\n",
        "        nn.Conv2d(256,256,3,stride = 1,padding=1),\n",
        "        nn.BatchNorm2d(256),\n",
        "        nn.ReLU(),\n",
        "        nn.MaxPool2d(2,stride=2)\n",
        "    )\n",
        "\n",
        "\n",
        "    self.layer5 = nn.Sequential(\n",
        "        nn.Conv2d(256,512,3,stride = 1,padding=1),\n",
        "        nn.BatchNorm2d(512),\n",
        "        nn.ReLU()\n",
        "    )\n",
        "\n",
        "\n",
        "    self.layer6 = nn.Sequential(\n",
        "        nn.Conv2d(512,512,3,stride = 1,padding=1),\n",
        "        nn.BatchNorm2d(512),\n",
        "        nn.ReLU(),\n",
        "        nn.MaxPool2d(2,stride=2)\n",
        "    )\n",
        "\n",
        "\n",
        "    self.layer7 = nn.Sequential(\n",
        "        nn.Conv2d(512,512,3,stride = 1,padding=1),\n",
        "        nn.BatchNorm2d(512),\n",
        "        nn.ReLU()\n",
        "    )\n",
        "\n",
        "    self.layer8 = nn.Sequential(\n",
        "        nn.Conv2d(512,512,3,stride = 1,padding=1),\n",
        "        nn.BatchNorm2d(512),\n",
        "        nn.ReLU(),\n",
        "        nn.MaxPool2d(2,stride=2)\n",
        "      \n",
        "    )\n",
        "    #fully connected layers\n",
        "\n",
        "    self.layer9 = nn.Sequential(\n",
        "        nn.Linear(512,4096),\n",
        "        nn.ReLU(),\n",
        "        nn.Dropout2d(p = 0.5)\n",
        "    )\n",
        "\n",
        "    self.layer10 = nn.Sequential(\n",
        "        nn.Linear(4096,4096),\n",
        "        nn.ReLU(),\n",
        "        nn.Dropout2d(p = 0.5)\n",
        "    )\n",
        "\n",
        "    self.layer11 = nn.Sequential(\n",
        "        nn.Linear(4096,10)\n",
        "    )\n",
        "\n",
        "  def forward(self,x):\n",
        "    x = self.layer1(x)\n",
        "    print(x.size())\n",
        "    x = self.layer2(x)\n",
        "    print(x.size())\n",
        "    x = self.layer3(x)\n",
        "    print(x.size())\n",
        "    x = self.layer4(x)\n",
        "    print(x.size())\n",
        "    x = self.layer5(x)\n",
        "    print(x.size())\n",
        "    x = self.layer6(x)\n",
        "    print(x.size())\n",
        "    x = self.layer7(x)\n",
        "    print(x.size())\n",
        "    x = self.layer8(x)\n",
        "    print(x.size())\n",
        "    x = x.view(-1, 512)\n",
        "    print(x.size())\n",
        "    x = self.layer9(x)\n",
        "    print(x.size())\n",
        "    x = self.layer10(x)\n",
        "    print(x.size())\n",
        "    x = self.layer11(x)\n",
        "    print(x.size())\n",
        "    return x"
      ],
      "execution_count": 131,
      "outputs": []
    },
    {
      "cell_type": "code",
      "metadata": {
        "id": "PhmhRSN6fgyG",
        "colab_type": "code",
        "colab": {}
      },
      "source": [
        "batch_size_train = 1"
      ],
      "execution_count": 140,
      "outputs": []
    },
    {
      "cell_type": "code",
      "metadata": {
        "id": "23SOY7SbcZ4f",
        "colab_type": "code",
        "colab": {}
      },
      "source": [
        "import torchvision\n",
        "import os\n",
        "\n",
        "train_loader = torch.utils.data.DataLoader(\n",
        "    torchvision.datasets.MNIST(\"/files/\",train=True,download=True,transform = torchvision.transforms.Compose([torchvision.transforms.Resize((32,32), interpolation=2),torchvision.transforms.ToTensor()])),batch_size = batch_size_train\n",
        ")"
      ],
      "execution_count": 141,
      "outputs": []
    },
    {
      "cell_type": "code",
      "metadata": {
        "id": "9Z7bWYzRfv5i",
        "colab_type": "code",
        "colab": {
          "base_uri": "https://localhost:8080/",
          "height": 153
        },
        "outputId": "30b8fdc7-4765-47f5-9bb8-aa95554bef84"
      },
      "source": [
        "print(train_loader)\n",
        "examples = enumerate(train_loader)\n",
        "batch_idx,(example_data,example_target) = next(examples)\n",
        "print(batch_idx)\n",
        "print(example_data.shape)\n",
        "print(example_target)\n",
        "print(train_loader)\n",
        "batch_idx,(example_data,example_target) = next(examples)\n",
        "print(batch_idx)\n",
        "print(example_data.shape)\n",
        "print(example_target)"
      ],
      "execution_count": 142,
      "outputs": [
        {
          "output_type": "stream",
          "text": [
            "<torch.utils.data.dataloader.DataLoader object at 0x7f7e98272b70>\n",
            "0\n",
            "torch.Size([1, 1, 32, 32])\n",
            "tensor([5])\n",
            "<torch.utils.data.dataloader.DataLoader object at 0x7f7e98272b70>\n",
            "1\n",
            "torch.Size([1, 1, 32, 32])\n",
            "tensor([0])\n"
          ],
          "name": "stdout"
        }
      ]
    },
    {
      "cell_type": "code",
      "metadata": {
        "id": "2nRiF46ugtgv",
        "colab_type": "code",
        "colab": {
          "base_uri": "https://localhost:8080/",
          "height": 283
        },
        "outputId": "b62c963e-626f-4454-b655-8e694aabf265"
      },
      "source": [
        "import matplotlib.pyplot as plt\n",
        "\n",
        "fig = plt.figure()\n",
        "plt.imshow(example_data[0][0],cmap='gray',interpolation = 'none')"
      ],
      "execution_count": 143,
      "outputs": [
        {
          "output_type": "execute_result",
          "data": {
            "text/plain": [
              "<matplotlib.image.AxesImage at 0x7f7e981ab5f8>"
            ]
          },
          "metadata": {
            "tags": []
          },
          "execution_count": 143
        },
        {
          "output_type": "display_data",
          "data": {
            "image/png": "[encoded data removed]",
            "text/plain": [
              "<Figure size 432x288 with 1 Axes>"
            ]
          },
          "metadata": {
            "tags": [],
            "needs_background": "light"
          }
        }
      ]
    },
    {
      "cell_type": "code",
      "metadata": {
        "id": "HdC0sUwxiZ1S",
        "colab_type": "code",
        "colab": {
          "base_uri": "https://localhost:8080/",
          "height": 272
        },
        "outputId": "3bf0b2f4-03b6-44df-ffd0-4bbfe525b3db"
      },
      "source": [
        "net = Net()\n",
        "#print(net)\n",
        "data = torch.randn(1, 1, 32, 32)\n",
        "data = example_data\n",
        "print(data.size())\n",
        "out = net(data)\n",
        "print(target)\n",
        "\n",
        "\n",
        "\n",
        "loss = nn.CrossEntropyLoss()\n",
        "output = loss(out,example_target)\n",
        "print(output)"
      ],
      "execution_count": 155,
      "outputs": [
        {
          "output_type": "stream",
          "text": [
            "torch.Size([1, 1, 32, 32])\n",
            "torch.Size([1, 64, 16, 16])\n",
            "torch.Size([1, 128, 8, 8])\n",
            "torch.Size([1, 256, 8, 8])\n",
            "torch.Size([1, 256, 4, 4])\n",
            "torch.Size([1, 512, 4, 4])\n",
            "torch.Size([1, 512, 2, 2])\n",
            "torch.Size([1, 512, 2, 2])\n",
            "torch.Size([1, 512, 1, 1])\n",
            "torch.Size([1, 512])\n",
            "torch.Size([1, 4096])\n",
            "torch.Size([1, 4096])\n",
            "torch.Size([1, 10])\n",
            "tensor([1])\n",
            "tensor(1.8833, grad_fn=<NllLossBackward>)\n"
          ],
          "name": "stdout"
        }
      ]
    }
  ]
}